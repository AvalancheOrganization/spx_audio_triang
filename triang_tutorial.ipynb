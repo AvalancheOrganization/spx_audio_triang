{
 "cells": [
  {
   "cell_type": "code",
   "execution_count": 9,
   "id": "4c632ad1",
   "metadata": {},
   "outputs": [],
   "source": [
    "from glob import glob\n",
    "from pathlib import Path\n",
    "from typing import Tuple\n",
    "from tqdm.notebook import tqdm\n",
    "from PIL import Image\n",
    "from io import BytesIO\n",
    "\n",
    "import numpy as np\n",
    "from math import sqrt, pi as PI, atan2\n",
    "from matplotlib import pyplot as plt\n",
    "from cairosvg import svg2png\n",
    "\n",
    "from shapely.geometry import Point, Polygon, LineString\n",
    "from shapely.affinity import rotate\n",
    "import cv2"
   ]
  },
  {
   "cell_type": "code",
   "execution_count": 65,
   "id": "554d02f5",
   "metadata": {},
   "outputs": [],
   "source": [
    "def calculate(a: float, b: float, c: float, G: float) -> Tuple[float, float]:\n",
    "    r_1 = (-2 * a * a * a + a * a * (b + c) - sqrt(3) * sqrt(-((a - b) * (a - b) - G * G) * ((a - c) * (a - c) - G * G) * ((b - c) * (b - c) - G * G)) - (b + c) * (2 * b * b - 3 * b * c + 2 * c * c - G * G) + a * (b * b + c * c + G * G)) / (4 * (a * a + b * b - b * c + c * c - a * (b + c)) - 3 * G * G)\n",
    "    r_2 = (-2 * a * a * a + a * a * (b + c) + sqrt(3) * sqrt(-((a - b) * (a - b) - G * G) * ((a - c) * (a - c) - G * G) * ((b - c) * (b - c) - G * G)) - (b + c) * (2 * b * b - 3 * b * c + 2 * c * c - G * G) + a * (b * b + c * c + G * G)) / (4 * (a * a + b * b - b * c + c * c - a * (b + c)) - 3 * G * G)\n",
    "\n",
    "    if (r_1 == 0 and r_2 == 0):\n",
    "        print(\"ZERO\")\n",
    "        ori = (-1, -1)\n",
    "        return ori\n",
    "\n",
    "    i_1 = 2 * a * a * a * (b - c) + 2 * b * b * b * c + 4 * c * c * G * G - 3 * G * G * G * G\n",
    "    i_2 = 3 * a * a * (2 * c * (-b + c) + G * G) + b * b * (-6 * c * c + 5 * G * G)\n",
    "    i_3 = sqrt(3) * sqrt(-((a - b) * (a - b) - G * G) * ((a - c) * (a - c) - G * G) * ((b - c) * (b - c) - G * G))\n",
    "    i_4 = b * b * b - 3 * b * b * c + 2 * c * c * c + (2 * b + c) * G * G\n",
    "    i_5 = 8 * (a * a + b * b - b * c + c * c - a * (b + c)) * G - 6 * G * G * G\n",
    "    i_7 = 2 * sqrt(3) * (-4 * (a * a + b * b - b * c + c * c - a * (b + c)) * G + 3 * G * G * G)\n",
    "\n",
    "    if (r_1 >= r_2):\n",
    "        x = (i_1 + i_2 + 2 * b * (2 * c * c * c - 3 * c * G * G + i_3) - 2 * a * (i_4 + i_3)) / i_5\n",
    "        y = (6 * b * b * b * (a - c) + 2 * a * i_3 + 2 * b * i_3 - 4 * c * i_3 - 3 * (a - G) * (a + G) * (2 * (a - c) * c + G * G) - 3 * b * b * (2 * (a - c) * (2 * a + c) + G * G) + 6 * b * (a * a * a + a * a * c - 2 * a * c * c + c * G * G)) / i_7\n",
    "    else:\n",
    "        x = (i_1 + i_2 + 2 * a * i_3 - 2 * a * (i_4) - 2 * b * (-2 * c * c * c + 3 * c * G * G + i_3)) / i_5\n",
    "        y = (6 * b * b * b * (a - c) - 2 * a * i_3 - 2 * b * i_3 + 4 * c * i_3 - 3 * (a - G) * (a + G) * (2 * (a - c) * c + G * G) - 3 * b * b * (2 * (a - c) * (2 * a + c) + G * G) + 6 * b * (a * a * a + a * a * c - 2 * a * c * c + c * G * G)) / i_7\n",
    "\n",
    "    angle = atan2 (y - G / (2 * sqrt(3)), x - 0.5 * G) * 180 / PI\n",
    "    if (angle < 0):\n",
    "        angle += 360\n",
    "    \n",
    "    distance = sqrt((x - 0.5 * G) * (x - 0.5 * G) + (y - G / (2 * sqrt(3))) * (y - G / (2 * sqrt(3))))\n",
    "\n",
    "    ori = (angle, distance)\n",
    "\n",
    "    return ori"
   ]
  },
  {
   "cell_type": "code",
   "execution_count": 27,
   "id": "9f2b12e7",
   "metadata": {},
   "outputs": [
    {
     "data": {
      "text/plain": [
       "True"
      ]
     },
     "execution_count": 27,
     "metadata": {},
     "output_type": "execute_result"
    }
   ],
   "source": [
    "svg_data = open(\"triangle.svg\", \"rb\").read()\n",
    "png = svg2png(bytestring=svg_data)\n",
    "\n",
    "pil_img = Image.open(BytesIO(png)).convert('RGBA')\n",
    "pil_img.save('pil.png')\n",
    "\n",
    "cv_img = cv2.cvtColor(np.array(pil_img), cv2.COLOR_RGBA2BGRA)\n",
    "cv2.imwrite('cv.png', cv_img)"
   ]
  },
  {
   "cell_type": "code",
   "execution_count": 108,
   "id": "4553a435",
   "metadata": {},
   "outputs": [
    {
     "data": {
      "text/plain": [
       "Text(0.44730400000000003, 0, '000 ms')"
      ]
     },
     "execution_count": 108,
     "metadata": {},
     "output_type": "execute_result"
    },
    {
     "data": {
      "image/png": "[encoded data removed]",
      "text/plain": [
       "<Figure size 720x720 with 1 Axes>"
      ]
     },
     "metadata": {},
     "output_type": "display_data"
    }
   ],
   "source": [
    "plt.style.use(\"dark_background\")\n",
    "from matplotlib.offsetbox import TextArea, DrawingArea, OffsetImage, AnnotationBbox\n",
    "\n",
    "\n",
    "c = 340\n",
    "K = 506 * 2\n",
    "G = c * K * 1e-6\n",
    "\n",
    "p_a = Point(0, 0)\n",
    "p_b = Point(G, 0)\n",
    "p_c = Point(G / 2, sqrt(3)/2 * G)\n",
    "p_S = Point(1.4, 1.2)\n",
    "\n",
    "fig, ax = plt.subplots(figsize=(10, 10))\n",
    "ax.plot(*p_a.xy, \"+\", markersize=10)\n",
    "ax.plot(*p_b.xy, \"+\", markersize=10)\n",
    "ax.plot(*p_c.xy, \"+\", markersize=10)\n",
    "ax.plot(*p_S.xy, \"o\", markersize=10)\n",
    "ax.set_xlim([-1.5+G/2, 1.5+G/2]);\n",
    "ax.set_ylim([-1.5, 1.5]);\n",
    "\n",
    "p_0 = Polygon([p_a, p_b, p_c]).centroid\n",
    "line = LineString([p_0, Point(10, p_0.y)])\n",
    "line = rotate(line, angle, origin=p_0)\n",
    "ax.plot(*line.xy)\n",
    "\n",
    "img_bg = cv2.imread(\"triangle_figma.png\")\n",
    "imagebox = OffsetImage(img_bg, zoom=0.03)\n",
    "ab = AnnotationBbox(imagebox, (G/2, sqrt(3)/3*G), frameon=False)\n",
    "ab.set_zorder(1)\n",
    "ax.add_artist(ab)\n",
    "ax.text(-G, 0, \"000 ms\", fontsize=12)\n",
    "ax.text(0, 1.5*G, \"000 ms\", fontsize=12)\n",
    "ax.text(1.3* G, 0, \"000 ms\", fontsize=12)"
   ]
  },
  {
   "cell_type": "code",
   "execution_count": 103,
   "id": "6aa77a70",
   "metadata": {},
   "outputs": [
    {
     "data": {
      "application/vnd.jupyter.widget-view+json": {
       "model_id": "1099cdeaf1074db88cdd692a1ddd7809",
       "version_major": 2,
       "version_minor": 0
      },
      "text/plain": [
       "  0%|          | 0/999999 [00:00<?, ?it/s]"
      ]
     },
     "metadata": {},
     "output_type": "display_data"
    },
    {
     "data": {
      "text/plain": [
       "array([5399, 4677, 4458])"
      ]
     },
     "execution_count": 103,
     "metadata": {},
     "output_type": "execute_result"
    }
   ],
   "source": [
    "thresh = 1e-2\n",
    "deltas_t = np.array([0, 0, 0])\n",
    "for dt in tqdm(range(1, 10**6)):\n",
    "    r = dt * c * 1e-6\n",
    "    wave = p_S.buffer(r).exterior\n",
    "    if wave.distance(p_a) < thresh and deltas_t[0] == 0:\n",
    "        deltas_t[0] = dt\n",
    "    if wave.distance(p_b) < thresh and deltas_t[1] == 0:\n",
    "        deltas_t[1] = dt\n",
    "    if wave.distance(p_c) < thresh and deltas_t[2] == 0:\n",
    "        deltas_t[2] = dt\n",
    "    if deltas_t.min() > 0:\n",
    "        break\n",
    "        \n",
    "deltas_t"
   ]
  },
  {
   "cell_type": "code",
   "execution_count": 104,
   "id": "0ca6baab",
   "metadata": {},
   "outputs": [
    {
     "data": {
      "text/plain": [
       "array([941, 219,   0])"
      ]
     },
     "execution_count": 104,
     "metadata": {},
     "output_type": "execute_result"
    }
   ],
   "source": [
    "pivot = deltas_t.min()\n",
    "#pivot_idx = np.argmin(deltas_t)\n",
    "deltas_diff = deltas_t - pivot\n",
    "deltas_diff"
   ]
  },
  {
   "cell_type": "code",
   "execution_count": 105,
   "id": "f7d58abe",
   "metadata": {},
   "outputs": [
    {
     "data": {
      "text/plain": [
       "(41.80661970709407, 4738.277881101427)"
      ]
     },
     "execution_count": 105,
     "metadata": {},
     "output_type": "execute_result"
    }
   ],
   "source": [
    "angle, dist = calculate(*deltas_diff, K)\n",
    "angle, dist"
   ]
  },
  {
   "cell_type": "markdown",
   "id": "be195ad5",
   "metadata": {},
   "source": [
    "## Plot"
   ]
  },
  {
   "cell_type": "code",
   "execution_count": 114,
   "id": "635a1ee8",
   "metadata": {},
   "outputs": [],
   "source": [
    "def init_ax(fig):\n",
    "    \n",
    "    plt.style.use(\"dark_background\")\n",
    "    \n",
    "    ax = fig.add_subplot(111)\n",
    "    img_bg = cv2.imread(\"triangle_figma.png\")\n",
    "    imagebox = OffsetImage(img_bg, zoom=0.03)\n",
    "    ab = AnnotationBbox(imagebox, (G/2, sqrt(3)/3*G), frameon=False)\n",
    "    ab.set_zorder(1)\n",
    "    ax.add_artist(ab)\n",
    "    #ax.plot(*p_a.xy, \"+\", markersize=10, color=\"white\")\n",
    "    #ax.plot(*p_b.xy, \"+\", markersize=10, color=\"white\")\n",
    "    #ax.plot(*p_c.xy, \"+\", markersize=10, color=\"white\")\n",
    "    ax.plot(*p_S.xy, \"o\", markersize=10, color=\"green\")\n",
    "    ax.set_xlim([-1.5+G/2, 1.5+G/2]);\n",
    "    ax.set_ylim([-1.5, 1.5])\n",
    "    \n",
    "    return ax\n",
    "\n",
    "\n",
    "def make_mp4(fp_in, fp_out):\n",
    "    first_file = sorted(glob(fp_in))[0]\n",
    "    w, h = cv2.imread(first_file).shape[:2]\n",
    "\n",
    "    fourcc = cv2.VideoWriter_fourcc(*'mp4v')\n",
    "    outVid = cv2.VideoWriter(fp_out, fourcc, 30.0, (h, w))\n",
    "    for file in sorted(glob(fp_in)):\n",
    "        frame = cv2.imread(file)\n",
    "        outVid.write(frame)\n",
    "    outVid.release()"
   ]
  },
  {
   "cell_type": "code",
   "execution_count": 115,
   "id": "60930af6",
   "metadata": {},
   "outputs": [],
   "source": [
    "def plot_sequence(source_id, angle, is_good=False):\n",
    "\n",
    "    print(f\" # [AudioDetection] Making {source_id}\")\n",
    "    \n",
    "    img_path = f\"img_{source_id}/\"\n",
    "    Path(img_path).mkdir(exist_ok=True)\n",
    "\n",
    "    fig = plt.figure(figsize=(10, 10))\n",
    "\n",
    "    deltas_t = np.zeros(3)\n",
    "    distances = np.array([np.inf, np.inf, np.inf])\n",
    "    counter_no_improve = np.zeros(3)\n",
    "    textpos = {\n",
    "        0:(-G, 0),\n",
    "        1: (1.3* G, 0),\n",
    "        2: (0, 1.5*G),\n",
    "    }\n",
    "    \n",
    "    max_count_no_improve = 5\n",
    "    r_within = 0.1\n",
    "    final_img_repeat = 60\n",
    "\n",
    "    for dt in tqdm(range(1, 10**4)):\n",
    "\n",
    "        ax = init_ax(fig)\n",
    "\n",
    "        r = dt * c * 1e-4\n",
    "        wave = p_S.buffer(r).exterior\n",
    "        \n",
    "        # iterations\n",
    "        if not is_good:\n",
    "            for idx, p in enumerate([p_a, p_b, p_c]):\n",
    "                dist = wave.distance(p)\n",
    "                if dist < distances[idx]:\n",
    "                    deltas_t[idx] = dt\n",
    "                    distances[idx] = dist\n",
    "                    if dist < r_within:\n",
    "                        ls_circle_within = Point(p).buffer(r_within).exterior\n",
    "                        ax.plot(*ls_circle_within.xy, color=\"#0033E8\")\n",
    "                else:\n",
    "                    ax.text(textpos[idx][0], textpos[idx][1], f\"{deltas_t[idx] / 10:.2f} ms\", fontsize=12, color=\"white\")\n",
    "                    counter_no_improve[idx] += 1\n",
    "        \n",
    "        # post-process\n",
    "        if all(counter_no_improve > 5):\n",
    "            p_0 = Polygon([p_a, p_b, p_c]).centroid\n",
    "            line = LineString([p_0, Point(10, p_0.y)])\n",
    "            line = rotate(line, angle, origin=p_0)\n",
    "            ax.plot(*line.xy)\n",
    "            ax.text(0, 1.2, f\"Detected audio angle: {angle:.2f} degree\", fontsize=15, color=\"white\")\n",
    "            for jdx in range(1, final_img_repeat):\n",
    "                ax.axis(\"off\")\n",
    "                plt.savefig(f\"{img_path}/{dt+jdx:05}.jpg\")\n",
    "            break\n",
    "\n",
    "        else:\n",
    "            ax.plot(*wave.xy)\n",
    "            ax.axis(\"off\")\n",
    "            plt.savefig(f\"{img_path}/{dt:05}.jpg\")\n",
    "            if is_good and dt > 120:\n",
    "                break\n",
    "\n",
    "        ax.remove()\n",
    "\n",
    "    make_mp4(f\"{img_path}/*\", f\"/Users/vincentmaladiere/Desktop/circle_{source_id}.mp4\")\n",
    "    \n",
    "    print(\" # [AudioDetection] Done!\")"
   ]
  },
  {
   "cell_type": "code",
   "execution_count": 117,
   "id": "be4274eb",
   "metadata": {},
   "outputs": [
    {
     "name": "stdout",
     "output_type": "stream",
     "text": [
      " # [AudioDetection] Making 4\n"
     ]
    },
    {
     "data": {
      "application/vnd.jupyter.widget-view+json": {
       "model_id": "8869f5d775a447afae2dfb513868044b",
       "version_major": 2,
       "version_minor": 0
      },
      "text/plain": [
       "  0%|          | 0/9999 [00:00<?, ?it/s]"
      ]
     },
     "metadata": {},
     "output_type": "display_data"
    },
    {
     "name": "stdout",
     "output_type": "stream",
     "text": [
      " # [AudioDetection] Done!\n"
     ]
    },
    {
     "data": {
      "image/png": "[encoded data removed]",
      "text/plain": [
       "<Figure size 720x720 with 1 Axes>"
      ]
     },
     "metadata": {},
     "output_type": "display_data"
    }
   ],
   "source": [
    "plot_sequence(4, angle, is_good=True)"
   ]
  },
  {
   "cell_type": "code",
   "execution_count": null,
   "id": "bd3a4fda",
   "metadata": {},
   "outputs": [],
   "source": [
    "bg_file = \"triangle.png\"\n",
    "img_bg = cv2.imread(bg_file)\n",
    "img_bg = cv2.cvtColor(img_bg, cv2.COLOR_BGR2RGB)\n",
    "plt.imshow(img_bg)"
   ]
  },
  {
   "cell_type": "code",
   "execution_count": 116,
   "id": "5a9b1d46",
   "metadata": {},
   "outputs": [],
   "source": [
    "rm img_4/*"
   ]
  },
  {
   "cell_type": "code",
   "execution_count": null,
   "id": "3bb395f0",
   "metadata": {},
   "outputs": [],
   "source": []
  }
 ],
 "metadata": {
  "kernelspec": {
   "display_name": "Python 3 (ipykernel)",
   "language": "python",
   "name": "python3"
  },
  "language_info": {
   "codemirror_mode": {
    "name": "ipython",
    "version": 3
   },
   "file_extension": ".py",
   "mimetype": "text/x-python",
   "name": "python",
   "nbconvert_exporter": "python",
   "pygments_lexer": "ipython3",
   "version": "3.9.12"
  }
 },
 "nbformat": 4,
 "nbformat_minor": 5
}
